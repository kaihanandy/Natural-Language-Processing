{
 "cells": [
  {
   "cell_type": "code",
   "execution_count": 60,
   "id": "bc604e46",
   "metadata": {},
   "outputs": [
    {
     "name": "stdout",
     "output_type": "stream",
     "text": [
      "Reading!\n",
      "Analysing!\n",
      "Done!\n",
      "Total Words: 8310362\n",
      "0.008212999626249735\n",
      "0.009523291524484733\n",
      "0.00527389781576302\n",
      "0.0043603395375556445\n",
      "0.00319071539843872\n",
      "0.0014484326916204132\n",
      "0.0017081085035766193\n",
      "0.0012912794893892709\n",
      "0.0025943514855309552\n",
      "0.00147959860232322\n"
     ]
    }
   ],
   "source": [
    "#encoding=utf-8\n",
    "import jieba\n",
    "import jieba.analyse\n",
    "\n",
    "f = open(\"cutwith.txt\", \"r\")\n",
    "total = 0\n",
    "a=0\n",
    "while a<1000000:\n",
    "    word = f.readline()\n",
    "    total += word.count(\",\")\n",
    "    a+=1\n",
    "    \n",
    "f.close()\n",
    "print(\"Reading!\")\n",
    "content = open('original.txt').read()\n",
    "print(\"Analysing!\")\n",
    "topwords = jieba.analyse.extract_tags(content, 10)\n",
    "print(\"Done!\")\n",
    "print(\"Total Words:\", total)\n",
    "\n",
    "for i in topwords:\n",
    "    a=0\n",
    "    freq=0\n",
    "    f = open(\"cutwith.txt\", \"r\")\n",
    "    while a<1000000:\n",
    "        word = f.readline()\n",
    "        freq += word.count(i)\n",
    "        a+=1\n",
    "    f.close\n",
    "    print(freq/total)"
   ]
  },
  {
   "cell_type": "code",
   "execution_count": 61,
   "id": "a7fb7720",
   "metadata": {},
   "outputs": [
    {
     "name": "stdout",
     "output_type": "stream",
     "text": [
      "Total Words: 68253\n"
     ]
    }
   ],
   "source": [
    "f = open(\"cutwith.txt\", \"r\")\n",
    "total = 0\n",
    "a=0\n",
    "while a<1000000:\n",
    "    word = f.readline()\n",
    "    total += word.count(\"什麼\")\n",
    "    a+=1\n",
    "    \n",
    "print(\"Total Words:\", total)"
   ]
  },
  {
   "cell_type": "code",
   "execution_count": null,
   "id": "29496717",
   "metadata": {},
   "outputs": [],
   "source": []
  }
 ],
 "metadata": {
  "kernelspec": {
   "display_name": "Python 3 (ipykernel)",
   "language": "python",
   "name": "python3"
  },
  "language_info": {
   "codemirror_mode": {
    "name": "ipython",
    "version": 3
   },
   "file_extension": ".py",
   "mimetype": "text/x-python",
   "name": "python",
   "nbconvert_exporter": "python",
   "pygments_lexer": "ipython3",
   "version": "3.7.9"
  }
 },
 "nbformat": 4,
 "nbformat_minor": 5
}
