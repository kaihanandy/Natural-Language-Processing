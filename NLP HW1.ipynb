{
 "cells": [
  {
   "cell_type": "code",
   "execution_count": 68,
   "id": "bc604e46",
   "metadata": {},
   "outputs": [
    {
     "name": "stdout",
     "output_type": "stream",
     "text": [
      "hello\n",
      "195970\n"
     ]
    }
   ],
   "source": [
    "f = open(\"jieba.txt\", \"r\")\n",
    "total = 0\n",
    "a=0\n",
    "while a<10000:\n",
    "    word = f.readline()\n",
    "    total += word.count(\"/\")\n",
    "    a+=1\n",
    "print(\"hello\")\n",
    "print(total)"
   ]
  },
  {
   "cell_type": "code",
   "execution_count": null,
   "id": "066d418a",
   "metadata": {},
   "outputs": [],
   "source": [
    "import jieba\n",
    "import jieba.analyse\n",
    "content = open('original.txt', 'rb').read()\n",
    "words = jieba.cut(content, cut_all=False)\n",
    "print(\", \".join(words))"
   ]
  },
  {
   "cell_type": "code",
   "execution_count": null,
   "id": "4c31199f",
   "metadata": {},
   "outputs": [],
   "source": []
  }
 ],
 "metadata": {
  "kernelspec": {
   "display_name": "Python 3 (ipykernel)",
   "language": "python",
   "name": "python3"
  },
  "language_info": {
   "codemirror_mode": {
    "name": "ipython",
    "version": 3
   },
   "file_extension": ".py",
   "mimetype": "text/x-python",
   "name": "python",
   "nbconvert_exporter": "python",
   "pygments_lexer": "ipython3",
   "version": "3.7.9"
  }
 },
 "nbformat": 4,
 "nbformat_minor": 5
}
